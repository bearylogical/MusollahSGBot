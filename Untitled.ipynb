{
 "cells": [
  {
   "cell_type": "code",
   "execution_count": 1,
   "metadata": {},
   "outputs": [],
   "source": [
    "import tabula"
   ]
  },
  {
   "cell_type": "code",
   "execution_count": 8,
   "metadata": {},
   "outputs": [],
   "source": [
    "\n",
    "\n",
    "# Read remote pdf into DataFrame\n",
    "df = tabula.read_pdf(\"https://www.muis.gov.sg/-/media/Files/Corporate-Site/Prayer-Timetable-2019.pdf\",pages='all')"
   ]
  },
  {
   "cell_type": "code",
   "execution_count": 12,
   "metadata": {},
   "outputs": [
    {
     "data": {
      "text/html": [
       "<div>\n",
       "<style scoped>\n",
       "    .dataframe tbody tr th:only-of-type {\n",
       "        vertical-align: middle;\n",
       "    }\n",
       "\n",
       "    .dataframe tbody tr th {\n",
       "        vertical-align: top;\n",
       "    }\n",
       "\n",
       "    .dataframe thead th {\n",
       "        text-align: right;\n",
       "    }\n",
       "</style>\n",
       "<table border=\"1\" class=\"dataframe\">\n",
       "  <thead>\n",
       "    <tr style=\"text-align: right;\">\n",
       "      <th></th>\n",
       "      <th>Date</th>\n",
       "      <th>Day</th>\n",
       "      <th>Subuh</th>\n",
       "      <th>Syuruk</th>\n",
       "      <th>Zohor</th>\n",
       "      <th>Asar</th>\n",
       "      <th>Maghrib</th>\n",
       "      <th>Isyak</th>\n",
       "    </tr>\n",
       "  </thead>\n",
       "  <tbody>\n",
       "    <tr>\n",
       "      <th>0</th>\n",
       "      <td>1/1/2019</td>\n",
       "      <td>Tues</td>\n",
       "      <td>5 44</td>\n",
       "      <td>7 08</td>\n",
       "      <td>1 10</td>\n",
       "      <td>4 34</td>\n",
       "      <td>7 10</td>\n",
       "      <td>8 25</td>\n",
       "    </tr>\n",
       "    <tr>\n",
       "      <th>1</th>\n",
       "      <td>2/1/2019</td>\n",
       "      <td>Wed</td>\n",
       "      <td>5 45</td>\n",
       "      <td>7 08</td>\n",
       "      <td>1 11</td>\n",
       "      <td>4 34</td>\n",
       "      <td>7 11</td>\n",
       "      <td>8 26</td>\n",
       "    </tr>\n",
       "    <tr>\n",
       "      <th>2</th>\n",
       "      <td>3/1/2019</td>\n",
       "      <td>Thurs</td>\n",
       "      <td>5 45</td>\n",
       "      <td>7 08</td>\n",
       "      <td>1 11</td>\n",
       "      <td>4 35</td>\n",
       "      <td>7 11</td>\n",
       "      <td>8 26</td>\n",
       "    </tr>\n",
       "    <tr>\n",
       "      <th>3</th>\n",
       "      <td>4/1/2019</td>\n",
       "      <td>Fri</td>\n",
       "      <td>5 46</td>\n",
       "      <td>7 09</td>\n",
       "      <td>1 11</td>\n",
       "      <td>4 35</td>\n",
       "      <td>7 12</td>\n",
       "      <td>8 26</td>\n",
       "    </tr>\n",
       "    <tr>\n",
       "      <th>4</th>\n",
       "      <td>5/1/2019</td>\n",
       "      <td>Sat</td>\n",
       "      <td>5 46</td>\n",
       "      <td>7 09</td>\n",
       "      <td>1 12</td>\n",
       "      <td>4 36</td>\n",
       "      <td>7 12</td>\n",
       "      <td>8 27</td>\n",
       "    </tr>\n",
       "  </tbody>\n",
       "</table>\n",
       "</div>"
      ],
      "text/plain": [
       "       Date    Day Subuh Syuruk Zohor  Asar Maghrib Isyak\n",
       "0  1/1/2019   Tues  5 44   7 08  1 10  4 34    7 10  8 25\n",
       "1  2/1/2019    Wed  5 45   7 08  1 11  4 34    7 11  8 26\n",
       "2  3/1/2019  Thurs  5 45   7 08  1 11  4 35    7 11  8 26\n",
       "3  4/1/2019    Fri  5 46   7 09  1 11  4 35    7 12  8 26\n",
       "4  5/1/2019    Sat  5 46   7 09  1 12  4 36    7 12  8 27"
      ]
     },
     "execution_count": 12,
     "metadata": {},
     "output_type": "execute_result"
    }
   ],
   "source": [
    "df.head()"
   ]
  },
  {
   "cell_type": "code",
   "execution_count": null,
   "metadata": {},
   "outputs": [],
   "source": []
  }
 ],
 "metadata": {
  "kernelspec": {
   "display_name": "Python 3",
   "language": "python",
   "name": "python3"
  },
  "language_info": {
   "codemirror_mode": {
    "name": "ipython",
    "version": 3
   },
   "file_extension": ".py",
   "mimetype": "text/x-python",
   "name": "python",
   "nbconvert_exporter": "python",
   "pygments_lexer": "ipython3",
   "version": "3.6.8"
  }
 },
 "nbformat": 4,
 "nbformat_minor": 2
}
